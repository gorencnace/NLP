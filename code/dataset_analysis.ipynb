{
 "cells": [
  {
   "cell_type": "markdown",
   "metadata": {},
   "source": [
    "**Importing libraries**"
   ]
  },
  {
   "cell_type": "code",
   "execution_count": 1,
   "metadata": {},
   "outputs": [],
   "source": [
    "import pandas as pd"
   ]
  },
  {
   "cell_type": "markdown",
   "metadata": {},
   "source": [
    "**Loading data** and **cleaning data**"
   ]
  },
  {
   "cell_type": "code",
   "execution_count": 22,
   "metadata": {},
   "outputs": [
    {
     "name": "stdout",
     "output_type": "stream",
     "text": [
      "Number of articles: 35\n",
      "Average number of questions per article: 339.23\n",
      "Average number of answers per question: 1.71\n",
      "Number of questions and answers: 11873\n",
      "Number of unanswerable questions: 5945\n",
      "Shortest question: 37\n",
      "Longest question: 181\n",
      "Shortest answer: 1\n",
      "Longest answer: 181\n"
     ]
    }
   ],
   "source": [
    "data = pd.read_json('..\\\\data\\\\test.json')\n",
    "del data['version']\n",
    "\n",
    "# require columns in our dataframe\n",
    "cols = ['text', 'question', 'answers']\n",
    "\n",
    "# list of lists to create our dataframe\n",
    "comp_list = []\n",
    "i = 0\n",
    "total_num_of_answers = 0\n",
    "num_of_unanswerable_questions = 0\n",
    "min_len_q = 99999\n",
    "max_len_q = 0\n",
    "min_len_a = 99999\n",
    "max_len_a = 0\n",
    "\n",
    "for _, dset in data.iterrows():\n",
    "    i += 1\n",
    "    for row in dset['data']['paragraphs']:\n",
    "        for qas in row['qas']:\n",
    "            temp_list = []\n",
    "            temp_list.append(row['context'])\n",
    "            temp_list.append(qas['question'])\n",
    "            temp_list.append([a['text'] for a in qas['answers']])\n",
    "            comp_list.append(temp_list)\n",
    "\n",
    "            total_num_of_answers += len(qas[\"answers\"])\n",
    "\n",
    "            if len(qas[\"answers\"]) == 0:\n",
    "                num_of_unanswerable_questions += 1\n",
    "\n",
    "            q_length = len(qas[\"question\"])\n",
    "            if q_length > max_len_q:\n",
    "                max_len_q = q_length\n",
    "            if q_length < min_len_a:\n",
    "                min_len_q = q_length\n",
    "\n",
    "            if len(qas[\"answers\"]) == 0:\n",
    "                continue\n",
    "\n",
    "            long_a = max([len(a[\"text\"]) for a in qas[\"answers\"]])\n",
    "            if long_a > max_len_a:\n",
    "                max_len_a = long_a\n",
    "            short_a = min([len(a[\"text\"]) for a in qas[\"answers\"]])\n",
    "            if short_a < min_len_a:\n",
    "                min_len_a = short_a\n",
    "\n",
    "df = pd.DataFrame(comp_list, columns=cols)\n",
    "\n",
    "print(f\"Number of articles: {i}\")\n",
    "print(f\"Average number of questions per article: {(len(df) / i):.2f}\")\n",
    "print(f\"Average number of answers per question: {(total_num_of_answers / len(df)):.2f}\")\n",
    "print(f\"Number of questions and answers: {len(df)}\")\n",
    "print(f\"Number of unanswerable questions: {num_of_unanswerable_questions}\")\n",
    "print(f\"Shortest question: {min_len_q}\")\n",
    "print(f\"Longest question: {max_len_q}\")\n",
    "print(f\"Shortest answer: {min_len_a}\")\n",
    "print(f\"Longest answer: {max_len_a}\")"
   ]
  }
 ],
 "metadata": {
  "interpreter": {
   "hash": "0a7692135ba27c234fedb924da09be8f9e5f39b67b1233c8cb21bede8e057e0e"
  },
  "kernelspec": {
   "display_name": "Python 3.8.10 64-bit",
   "language": "python",
   "name": "python3"
  },
  "language_info": {
   "codemirror_mode": {
    "name": "ipython",
    "version": 3
   },
   "file_extension": ".py",
   "mimetype": "text/x-python",
   "name": "python",
   "nbconvert_exporter": "python",
   "pygments_lexer": "ipython3",
   "version": "3.6.8"
  },
  "orig_nbformat": 4
 },
 "nbformat": 4,
 "nbformat_minor": 2
}
