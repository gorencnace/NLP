{
 "cells": [
  {
   "cell_type": "markdown",
   "metadata": {},
   "source": [
    "**Notebook for aligning slovenian data to correct indices by finding the word directly in the text**"
   ]
  },
  {
   "cell_type": "markdown",
   "metadata": {},
   "source": [
    "- import libraries and set values"
   ]
  },
  {
   "cell_type": "code",
   "execution_count": 14,
   "metadata": {},
   "outputs": [],
   "source": [
    "import numpy as np\n",
    "import pandas as pd\n",
    "from tokenizers import BertWordPieceTokenizer\n",
    "from transformers import BertTokenizer\n",
    "\n",
    "INITIAL_VALUE = -1\n",
    "CLS = 103\n",
    "SEP = 104\n",
    "\n",
    "dataset_name = \"dev-v2.0\""
   ]
  },
  {
   "cell_type": "markdown",
   "metadata": {},
   "source": [
    "**Find data directly in text**"
   ]
  },
  {
   "cell_type": "code",
   "execution_count": 15,
   "metadata": {},
   "outputs": [
    {
     "name": "stdout",
     "output_type": "stream",
     "text": [
      "Accurately found 43.162% of answers in text\n"
     ]
    }
   ],
   "source": [
    "i = 0\n",
    "j = 0\n",
    "df = pd.read_json(f\"..\\\\data\\\\{dataset_name}_unaligned_SL.json\")\n",
    "for _, dset in df.iterrows():\n",
    "    for row in dset['data']['paragraphs']:\n",
    "        article_text = row['context']\n",
    "        \n",
    "        for qas in row['qas']:\n",
    "            for ans in qas['answers']:\n",
    "                ans_text = ans['text']\n",
    "\n",
    "                if ans_text in article_text:\n",
    "                    ans['answer_start'] = article_text.find(ans_text)\n",
    "                    ans['answer_end'] = ans['answer_start'] + len(ans_text)\n",
    "                    i += 1\n",
    "\n",
    "                j += 1\n",
    "\n",
    "            qas['answers'] = list(filter(lambda ans: ans['answer_start'] != -1, qas['answers']))\n",
    "        row['qas'] = list(filter(lambda qas: len(qas['answers']) > 0, row['qas']))\n",
    "    dset['data']['paragraphs'] = list(filter(lambda paragraph: len(paragraph['qas']) > 0, dset['data']['paragraphs']))\n",
    "\n",
    "# df.to_json(f\"..\\\\data\\\\aligned_data_SL\\\\{dataset_name}_aligned_directly_all_answers.json\", indent=2)\n",
    "df.to_json(f\"..\\\\data\\\\aligned_data_SL\\\\{dataset_name}_aligned_directly.json\", indent=2)\n",
    "print(f\"Accurately found {(i * 100 / j):.3f}% of answers in text\")"
   ]
  },
  {
   "cell_type": "markdown",
   "metadata": {},
   "source": [
    "**Find data with tokenization**"
   ]
  },
  {
   "cell_type": "code",
   "execution_count": 15,
   "metadata": {},
   "outputs": [
    {
     "name": "stderr",
     "output_type": "stream",
     "text": [
      "c:\\Users\\zpecovnik\\AppData\\Local\\Programs\\Python\\Python36\\lib\\site-packages\\transformers\\tokenization_utils_base.py:1648: FutureWarning: Calling BertTokenizer.from_pretrained() with the path to a single file or url is deprecated and won't be possible anymore in v5. Use a model identifier or the path to a directory instead.\n",
      "  FutureWarning,\n"
     ]
    },
    {
     "name": "stdout",
     "output_type": "stream",
     "text": [
      "Accurately found 67.112% of answers in text\n"
     ]
    }
   ],
   "source": [
    "df = pd.read_json(f\"..\\\\data\\\\{dataset_name}_unaligned_SL.json\")\n",
    "tokenizer = BertTokenizer.from_pretrained('../data/CroSloEngual_BERT/vocab_slocroeng.txt')\n",
    "with open('../data/CroSloEngual_BERT/vocab_slocroeng.txt', 'r', encoding='utf-8') as fp:\n",
    "    vocab = fp.read().split('\\n')\n",
    "\n",
    "i = 0\n",
    "j = 0\n",
    "for _, dset in df.iterrows():\n",
    "    for row in dset['data']['paragraphs']:\n",
    "        article_text = row['context']\n",
    "        article_tokens = tokenizer(article_text)['input_ids']\n",
    "\n",
    "        for qas in row['qas']:\n",
    "            for ans in qas['answers']:\n",
    "                ans_text = ans['text']\n",
    "                ans_tokens = tokenizer(ans_text)['input_ids']\n",
    "                ans_tokens.remove(SEP)\n",
    "                ans_tokens.remove(CLS)\n",
    "\n",
    "                ans_tokens = list(filter(lambda t: not vocab[t].startswith(\"##\"), ans_tokens))\n",
    "                first_token = ans_tokens[0]\n",
    "                special_chars = [\",\", \".\", \":\", \";\", \"-\", \"_\", \"(\", \")\"]\n",
    "                answer_text = \"\"\n",
    "                should_append = False\n",
    "                c = -1\n",
    "                if all(a in article_tokens for a in ans_tokens):\n",
    "                    for at in article_tokens:\n",
    "                        \n",
    "\n",
    "                        if at == first_token:\n",
    "                            should_append = True\n",
    "                        \n",
    "                        if should_append:\n",
    "                            t = vocab[at]\n",
    "\n",
    "                            if t.startswith(\"##\"):\n",
    "                                answer_text += t[2:]\n",
    "                            else:\n",
    "                                c += 1\n",
    "                                if c == len(ans_tokens):\n",
    "                                    break\n",
    "\n",
    "                                if t not in special_chars:\n",
    "                                    answer_text += \" \" + t\n",
    "                                else:\n",
    "                                    answer_text += t\n",
    "\n",
    "                    answer_text = answer_text.lstrip()\n",
    "                    ans['answer_start'] = article_text.lower().find(answer_text.lower())\n",
    "                    ans['answer_end'] = ans['answer_start'] + len(answer_text)\n",
    "                    ans['text'] = article_text[ans['answer_start']:ans['answer_end']]\n",
    "                    i += 1\n",
    "\n",
    "                j += 1\n",
    "                \n",
    "            qas['answers'] = list(filter(lambda ans: ans['answer_start'] != -1, qas['answers']))\n",
    "        row['qas'] = list(filter(lambda qas: len(qas['answers']) > 0, row['qas']))\n",
    "    dset['data']['paragraphs'] = list(filter(lambda paragraph: len(paragraph['qas']) > 0, dset['data']['paragraphs']))\n",
    "\n",
    "# df.to_json(f\"..\\\\data\\\\aligned_data_SL\\\\{dataset_name}_aligned_tokenization_all_answers.json\", indent=2)\n",
    "df.to_json(f\"..\\\\data\\\\aligned_data_SL\\\\{dataset_name}_aligned_tokenization.json\", indent=2)\n",
    "print(f\"Accurately found {(i * 100 / j):.3f}% of answers in text\")"
   ]
  },
  {
   "cell_type": "code",
   "execution_count": null,
   "metadata": {},
   "outputs": [],
   "source": []
  }
 ],
 "metadata": {
  "interpreter": {
   "hash": "56b06f56f6620962ff552d2c4b2d115c597c103b6dab06e87484ca3af319f4e2"
  },
  "kernelspec": {
   "display_name": "Python 3.6.8 64-bit",
   "language": "python",
   "name": "python3"
  },
  "language_info": {
   "codemirror_mode": {
    "name": "ipython",
    "version": 3
   },
   "file_extension": ".py",
   "mimetype": "text/x-python",
   "name": "python",
   "nbconvert_exporter": "python",
   "pygments_lexer": "ipython3",
   "version": "3.6.8"
  },
  "orig_nbformat": 4
 },
 "nbformat": 4,
 "nbformat_minor": 2
}
