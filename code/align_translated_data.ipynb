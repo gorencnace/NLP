{
 "cells": [
  {
   "cell_type": "markdown",
   "metadata": {},
   "source": [
    "**Notebook for aligning slovenian data to correct indices by finding the word directly in the text**"
   ]
  },
  {
   "cell_type": "markdown",
   "metadata": {},
   "source": [
    "- import libraries and set values"
   ]
  },
  {
   "cell_type": "code",
   "execution_count": 22,
   "metadata": {},
   "outputs": [],
   "source": [
    "import json\n",
    "import pandas as pd\n",
    "from tokenizers import BertWordPieceTokenizer\n",
    "from transformers import BertTokenizer\n",
    "\n",
    "INITIAL_VALUE = -1\n",
    "CLS = 103\n",
    "SEP = 104\n",
    "\n",
    "dataset_name = \"train-v2.0\"\n",
    "remove_bad_data = True # set to False to keep all data, even if answers are invalid"
   ]
  },
  {
   "cell_type": "markdown",
   "metadata": {},
   "source": [
    "**Find data directly in text**"
   ]
  },
  {
   "cell_type": "code",
   "execution_count": 13,
   "metadata": {},
   "outputs": [
    {
     "name": "stdout",
     "output_type": "stream",
     "text": [
      "Accurately found 43.162% of answers in text\n"
     ]
    }
   ],
   "source": [
    "i = 0\n",
    "j = 0\n",
    "df = pd.read_json(f\"..\\\\data\\\\{dataset_name}_unaligned_SL.json\")\n",
    "for _, dset in df.iterrows():\n",
    "    for row in dset['data']['paragraphs']:\n",
    "        article_text = row['context']\n",
    "        \n",
    "        for qas in row['qas']:\n",
    "            for ans in qas['answers']:\n",
    "                ans_text = ans['text']\n",
    "\n",
    "                if ans_text in article_text:\n",
    "                    ans['answer_start'] = article_text.find(ans_text)\n",
    "                    ans['answer_end'] = ans['answer_start'] + len(ans_text)\n",
    "                    i += 1\n",
    "\n",
    "                j += 1\n",
    "\n",
    "            if remove_bad_data:    \n",
    "                qas['answers'] = list(filter(lambda ans: ans['answer_start'] != -1, qas['answers']))\n",
    "        if remove_bad_data:    \n",
    "            row['qas'] = list(filter(lambda qas: len(qas['answers']) > 0, row['qas']))\n",
    "    if remove_bad_data:    \n",
    "        dset['data']['paragraphs'] = list(filter(lambda paragraph: len(paragraph['qas']) > 0, dset['data']['paragraphs']))\n",
    "\n",
    "actual_data = df['data'].to_numpy()\n",
    "with open(f\"..\\\\data\\\\aligned_data_SL\\\\{dataset_name}_aligned_directly{'_all_answers' if not remove_bad_data else ''}.json\", \"w\") as new_file:\n",
    "    new_file.write(json.dumps({'data': list(actual_data)}, indent=2))\n",
    "\n",
    "print(f\"Accurately found {(i * 100 / j):.3f}% of answers in text\")"
   ]
  },
  {
   "cell_type": "markdown",
   "metadata": {},
   "source": [
    "**Find data with tokenization**"
   ]
  },
  {
   "cell_type": "code",
   "execution_count": 23,
   "metadata": {},
   "outputs": [
    {
     "name": "stderr",
     "output_type": "stream",
     "text": [
      "c:\\Users\\zpecovnik\\AppData\\Local\\Programs\\Python\\Python36\\lib\\site-packages\\transformers\\tokenization_utils_base.py:1648: FutureWarning: Calling BertTokenizer.from_pretrained() with the path to a single file or url is deprecated and won't be possible anymore in v5. Use a model identifier or the path to a directory instead.\n",
      "  FutureWarning,\n"
     ]
    },
    {
     "name": "stdout",
     "output_type": "stream",
     "text": [
      "Accurately found 51.026% of answers in text\n"
     ]
    }
   ],
   "source": [
    "df = pd.read_json(f\"..\\\\data\\\\{dataset_name}_unaligned_SL.json\")\n",
    "df_eng = pd.read_json(f\"..\\\\data\\\\{dataset_name}.json\")\n",
    "tokenizer = BertTokenizer.from_pretrained('../data/CroSloEngual_BERT/vocab_slocroeng.txt')\n",
    "with open('../data/CroSloEngual_BERT/vocab_slocroeng.txt', 'r', encoding='utf-8') as fp:\n",
    "    vocab = fp.read().split('\\n')\n",
    "\n",
    "i = 0\n",
    "j = 0\n",
    "for df_idx, dset in df.iterrows():\n",
    "    for row_idx, row in enumerate(dset['data']['paragraphs']):\n",
    "        article_text = row['context']\n",
    "        article_tokens = tokenizer(article_text)['input_ids']\n",
    "\n",
    "        for qas_idx, qas in enumerate(row['qas']):\n",
    "            for ans_idx, ans in enumerate(qas['answers']):\n",
    "                ans_text = ans['text']\n",
    "                ans_tokens = tokenizer(ans_text)['input_ids']\n",
    "                ans_tokens.remove(SEP)\n",
    "                ans_tokens.remove(CLS)\n",
    "\n",
    "                ans_tokens = list(filter(lambda t: not vocab[t].startswith(\"##\"), ans_tokens))\n",
    "                first_token = ans_tokens[0]\n",
    "                special_chars = [\",\", \".\", \":\", \";\", \"-\", \"_\", \"(\", \")\"]\n",
    "                answer_text = \"\"\n",
    "                should_append = False\n",
    "                c = -1\n",
    "                if all(a in article_tokens for a in ans_tokens):\n",
    "                    for at in article_tokens:\n",
    "                        if at == first_token:\n",
    "                            should_append = True\n",
    "                        \n",
    "                        if should_append:\n",
    "                            t = vocab[at]\n",
    "\n",
    "                            if t.startswith(\"##\"):\n",
    "                                answer_text += t[2:]\n",
    "                            else:\n",
    "                                c += 1\n",
    "                                if c == len(ans_tokens):\n",
    "                                    eng_ans_start = df_eng.iloc[df_idx]['data']['paragraphs'][row_idx]['qas'][qas_idx]['answers'][ans_idx]['answer_start']\n",
    "                                    eng_article_text = df_eng.iloc[df_idx]['data']['paragraphs'][row_idx]['context']\n",
    "                                    answer_text = answer_text.lstrip()\n",
    "                                    slo_ans_start = article_text.lower().find(answer_text.lower())\n",
    "\n",
    "                                    if abs(eng_ans_start - slo_ans_start) < ((len(article_text) + len(eng_article_text)) / 2) * 0.27:\n",
    "                                        ans['answer_start'] = slo_ans_start\n",
    "                                        ans['answer_end'] = ans['answer_start'] + len(answer_text)\n",
    "                                        ans['text'] = article_text[ans['answer_start']:ans['answer_end']]\n",
    "                                        i += 1\n",
    "                                        break\n",
    "                                    else:\n",
    "                                        answer_text = \"\"\n",
    "                                        should_append = False\n",
    "                                        c = -1\n",
    "                                if should_append:\n",
    "                                    if t not in special_chars:\n",
    "                                        answer_text += \" \" + t\n",
    "                                    else:\n",
    "                                        answer_text += t\n",
    "\n",
    "                j += 1\n",
    "\n",
    "            if remove_bad_data:    \n",
    "                qas['answers'] = list(filter(lambda ans: ans['answer_start'] != -1, qas['answers']))\n",
    "        if remove_bad_data:\n",
    "            row['qas'] = list(filter(lambda qas: len(qas['answers']) > 0, row['qas']))\n",
    "    if remove_bad_data:\n",
    "        dset['data']['paragraphs'] = list(filter(lambda paragraph: len(paragraph['qas']) > 0, dset['data']['paragraphs']))\n",
    "\n",
    "actual_data = df['data'].to_numpy()\n",
    "with open(f\"..\\\\data\\\\aligned_data_SL\\\\{dataset_name}_aligned_tokenization{'_all_answers' if not remove_bad_data else ''}.json\", \"w\") as new_file:\n",
    "    new_file.write(json.dumps({'data': list(actual_data)}, indent=2))\n",
    "\n",
    "print(f\"Accurately found {(i * 100 / j):.3f}% of answers in text\")"
   ]
  },
  {
   "cell_type": "code",
   "execution_count": null,
   "metadata": {},
   "outputs": [],
   "source": []
  }
 ],
 "metadata": {
  "interpreter": {
   "hash": "56b06f56f6620962ff552d2c4b2d115c597c103b6dab06e87484ca3af319f4e2"
  },
  "kernelspec": {
   "display_name": "Python 3.6.8 64-bit",
   "language": "python",
   "name": "python3"
  },
  "language_info": {
   "codemirror_mode": {
    "name": "ipython",
    "version": 3
   },
   "file_extension": ".py",
   "mimetype": "text/x-python",
   "name": "python",
   "nbconvert_exporter": "python",
   "pygments_lexer": "ipython3",
   "version": "3.6.8"
  },
  "orig_nbformat": 4
 },
 "nbformat": 4,
 "nbformat_minor": 2
}
