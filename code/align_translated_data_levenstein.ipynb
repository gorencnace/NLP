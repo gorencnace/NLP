{
 "cells": [
  {
   "cell_type": "markdown",
   "metadata": {},
   "source": [
    "**Notebook for aligning slovenian data to correct indices by finding the word in the same sentence as original and using Levenstein distance**"
   ]
  },
  {
   "cell_type": "markdown",
   "metadata": {},
   "source": [
    "- import libraries and set values"
   ]
  },
  {
   "cell_type": "code",
   "execution_count": null,
   "metadata": {},
   "outputs": [],
   "source": [
    "import numpy as np\n",
    "import json\n",
    "import pandas as pd\n",
    "import nltk\n",
    "from difflib import ndiff\n",
    "\n",
    "dataset_name = \"train-v2.0\"\n",
    "remove_bad_data = True\n",
    "nltk.download('punkt')"
   ]
  },
  {
   "cell_type": "markdown",
   "metadata": {},
   "source": [
    "**Functions**"
   ]
  },
  {
   "cell_type": "code",
   "execution_count": 41,
   "metadata": {},
   "outputs": [],
   "source": [
    "def find_direct_sentence(context, start):\n",
    "    context_sentences = nltk.tokenize.sent_tokenize(context)\n",
    "\n",
    "    sentence_start, sentence_end = -1, -1\n",
    "    for sentence in context_sentences:\n",
    "        sentence_start = context.find(sentence)\n",
    "        sentence_end = sentence_start + len(sentence)\n",
    "\n",
    "        if start >= sentence_start and start <= sentence_end:\n",
    "            break\n",
    "    \n",
    "    return sentence_start, sentence_end\n",
    "\n",
    "def levenstein_distance(token1, token2):\n",
    "    distances = np.zeros((len(token1) + 1, len(token2) + 1))\n",
    "\n",
    "    for t1 in range(len(token1) + 1):\n",
    "        distances[t1][0] = t1\n",
    "\n",
    "    for t2 in range(len(token2) + 1):\n",
    "        distances[0][t2] = t2\n",
    "        \n",
    "    a = 0\n",
    "    b = 0\n",
    "    c = 0\n",
    "    \n",
    "    for t1 in range(1, len(token1) + 1):\n",
    "        for t2 in range(1, len(token2) + 1):\n",
    "            if (token1[t1-1] == token2[t2-1]):\n",
    "                distances[t1][t2] = distances[t1 - 1][t2 - 1]\n",
    "            else:\n",
    "                a = distances[t1][t2 - 1]\n",
    "                b = distances[t1 - 1][t2]\n",
    "                c = distances[t1 - 1][t2 - 1]\n",
    "                \n",
    "                if (a <= b and a <= c):\n",
    "                    distances[t1][t2] = a + 1\n",
    "                elif (b <= a and b <= c):\n",
    "                    distances[t1][t2] = b + 1\n",
    "                else:\n",
    "                    distances[t1][t2] = c + 1\n",
    "    return distances[len(token1)][len(token2)]\n",
    "\n",
    "def find_best_fit(sentence, answer):\n",
    "    \n",
    "    ans = \"\"\n",
    "    dist = len(answer) + 10\n",
    "    start_idx, end_idx = -1, -1\n",
    "    for i in range(0, len(sentence) - len(answer)):\n",
    "        ld = levenstein_distance(sentence[i:i+len(answer)], answer)\n",
    "        if (ld < dist):\n",
    "            ans = sentence[i:i+len(answer)]\n",
    "            dist = ld\n",
    "            start_idx = i\n",
    "            end_idx = i + len(answer)\n",
    "    \n",
    "    # print(f'Real answer: {answer}')\n",
    "    # print(f'Found answer: {ans}, distance: {dist}, start: {start_idx}, end: {end_idx}')\n",
    "    # print()\n",
    "\n",
    "    if (dist <= len(answer) / 2):\n",
    "        return start_idx, end_idx, ans\n",
    "    else:\n",
    "        return -1, -1, \"\""
   ]
  },
  {
   "cell_type": "markdown",
   "metadata": {},
   "source": [
    "**Find data in a direct sentence using Levenstein distance**"
   ]
  },
  {
   "cell_type": "code",
   "execution_count": 42,
   "metadata": {},
   "outputs": [
    {
     "name": "stdout",
     "output_type": "stream",
     "text": [
      "Accurately found 85.942% of answers in text\n"
     ]
    }
   ],
   "source": [
    "i = 0\n",
    "j = 0\n",
    "df = pd.read_json(f\"..\\\\data\\\\{dataset_name}_unaligned_original_indices_SL.json\")\n",
    "\n",
    "for _, dset in df.iterrows():\n",
    "    for row in dset['data']['paragraphs']:\n",
    "        article_text = row['context']\n",
    "\n",
    "        for qas in row['qas']:\n",
    "            for ans in qas['answers']:\n",
    "                ans_text = ans['text']\n",
    "                ans_start = ans['answer_start']\n",
    "                ans_end = ans['answer_end']\n",
    "                \n",
    "                if ans_text in article_text:\n",
    "                    ans['answer_start'] = article_text.find(ans_text)\n",
    "                    ans['answer_end'] = ans['answer_start'] + len(ans_text)\n",
    "                    i += 1\n",
    "                else:\n",
    "                    sentence_start, sentence_end = find_direct_sentence(article_text, ans_start)\n",
    "                    direct_sentence = article_text[sentence_start:sentence_end]\n",
    "                    \n",
    "                    start, end, real_ans = find_best_fit(direct_sentence, ans_text)\n",
    "\n",
    "                    if start != -1:\n",
    "                        ans['answer_start'] = start + sentence_start\n",
    "                        ans['answer_end'] = end + sentence_start\n",
    "                        ans['text'] = real_ans\n",
    "                        i += 1\n",
    "                    else:\n",
    "                        ans['answer_start'] = -1\n",
    "\n",
    "                j += 1\n",
    "\n",
    "            if remove_bad_data:    \n",
    "                qas['answers'] = list(filter(lambda ans: ans['answer_start'] != -1, qas['answers']))\n",
    "        if remove_bad_data:    \n",
    "            row['qas'] = list(filter(lambda qas: len(qas['answers']) > 0, row['qas']))\n",
    "    if remove_bad_data:    \n",
    "        dset['data']['paragraphs'] = list(filter(lambda paragraph: len(paragraph['qas']) > 0, dset['data']['paragraphs']))\n",
    "\n",
    "actual_data = df['data'].to_numpy()\n",
    "with open(f\"..\\\\data\\\\aligned_data_SL\\\\{dataset_name}_aligned_directly_levenstein{'_all_answers' if not remove_bad_data else ''}.json\", \"w\") as new_file:\n",
    "    new_file.write(json.dumps({'data': list(actual_data)}, indent=2))\n",
    "\n",
    "print(f\"Accurately found {(i * 100 / j):.3f}% of answers in text\")"
   ]
  }
 ],
 "metadata": {
  "interpreter": {
   "hash": "723b19fd28deb96bc37baa0683c136986cb5cee47c210bd3f521ba1f2c79bab0"
  },
  "kernelspec": {
   "display_name": "Python 3.9.9 64-bit",
   "language": "python",
   "name": "python3"
  },
  "language_info": {
   "codemirror_mode": {
    "name": "ipython",
    "version": 3
   },
   "file_extension": ".py",
   "mimetype": "text/x-python",
   "name": "python",
   "nbconvert_exporter": "python",
   "pygments_lexer": "ipython3",
   "version": "3.9.9"
  },
  "orig_nbformat": 4
 },
 "nbformat": 4,
 "nbformat_minor": 2
}
