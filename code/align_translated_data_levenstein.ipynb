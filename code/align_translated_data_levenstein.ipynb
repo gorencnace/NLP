{
 "cells": [
  {
   "cell_type": "markdown",
   "metadata": {},
   "source": [
    "**Notebook for aligning slovenian data to correct indices by finding the word in the same sentence as original and using Levenstein distance**"
   ]
  },
  {
   "cell_type": "markdown",
   "metadata": {},
   "source": [
    "- import libraries and set values"
   ]
  },
  {
   "cell_type": "code",
   "execution_count": 14,
   "metadata": {},
   "outputs": [],
   "source": [
    "import numpy as np\n",
    "import pandas as pd\n",
    "dataset_name = \"dev-v2.0\""
   ]
  },
  {
   "cell_type": "markdown",
   "metadata": {},
   "source": [
    "**Find data in a direct sentence using Levenstein distance**"
   ]
  },
  {
   "cell_type": "code",
   "execution_count": null,
   "metadata": {},
   "outputs": [],
   "source": [
    "i = 0\n",
    "j = 0\n",
    "df = pd.read_json(f\"..\\\\data\\\\{dataset_name}_unaligned_original_indices_SL.json\")\n",
    "for _, dset in df.iterrows():\n",
    "    for row in dset['data']['paragraphs']:\n",
    "        article_text = row['context']\n",
    "        \n",
    "        for qas in row['qas']:\n",
    "            for ans in qas['answers']:\n",
    "                ans_text = ans['text']\n",
    "                ans_start = ans['answer_start']\n",
    "                ans_end = ans['answer_end']\n",
    "\n",
    "                if ans_text in article_text:\n",
    "                    ans['answer_start'] = article_text.find(ans_text)\n",
    "                    ans['answer_end'] = ans['answer_start'] + len(ans_text)\n",
    "                    i += 1\n",
    "\n",
    "                j += 1\n",
    "\n",
    "            qas['answers'] = list(filter(lambda ans: ans['answer_start'] != -1, qas['answers']))\n",
    "        row['qas'] = list(filter(lambda qas: len(qas['answers']) > 0, row['qas']))\n",
    "    dset['data']['paragraphs'] = list(filter(lambda paragraph: len(paragraph['qas']) > 0, dset['data']['paragraphs']))\n",
    "\n",
    "# df.to_json(f\"..\\\\data\\\\aligned_data_SL\\\\{dataset_name}_aligned_directly_all_answers.json\", indent=2)\n",
    "df.to_json(f\"..\\\\data\\\\aligned_data_SL\\\\{dataset_name}_aligned_directly_levenstein.json\", indent=2)\n",
    "print(f\"Accurately found {(i * 100 / j):.3f}% of answers in text\")"
   ]
  }
 ],
 "metadata": {
  "interpreter": {
   "hash": "56b06f56f6620962ff552d2c4b2d115c597c103b6dab06e87484ca3af319f4e2"
  },
  "kernelspec": {
   "display_name": "Python 3.6.8 64-bit",
   "language": "python",
   "name": "python3"
  },
  "language_info": {
   "codemirror_mode": {
    "name": "ipython",
    "version": 3
   },
   "file_extension": ".py",
   "mimetype": "text/x-python",
   "name": "python",
   "nbconvert_exporter": "python",
   "pygments_lexer": "ipython3",
   "version": "3.6.8"
  },
  "orig_nbformat": 4
 },
 "nbformat": 4,
 "nbformat_minor": 2
}
