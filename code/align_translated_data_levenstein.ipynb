{
 "cells": [
  {
   "cell_type": "markdown",
   "metadata": {},
   "source": [
    "**Notebook for aligning slovenian data to correct indices by finding the word in the same sentence as original and using Levenstein distance**"
   ]
  },
  {
   "cell_type": "markdown",
   "metadata": {},
   "source": [
    "- import libraries and set values"
   ]
  },
  {
   "cell_type": "code",
   "execution_count": null,
   "metadata": {},
   "outputs": [],
   "source": [
    "import numpy as np\n",
    "import json\n",
    "import pandas as pd\n",
    "import nltk\n",
    "\n",
    "dataset_name = \"dev-v2.0\"\n",
    "remove_bad_data = True\n",
    "nltk.download('punkt')"
   ]
  },
  {
   "cell_type": "markdown",
   "metadata": {},
   "source": [
    "**Functions**"
   ]
  },
  {
   "cell_type": "code",
   "execution_count": 58,
   "metadata": {},
   "outputs": [],
   "source": [
    "def find_direct_sentence(context, start):\n",
    "    context_sentences = nltk.tokenize.sent_tokenize(context)\n",
    "\n",
    "    sentence_start, sentence_end = -1, -1\n",
    "    for sentence in context_sentences:\n",
    "        sentence_start = context.find(sentence)\n",
    "        sentence_end = sentence_start + len(sentence)\n",
    "\n",
    "        if start >= sentence_start and start <= sentence_end:\n",
    "            break\n",
    "    \n",
    "    return sentence_start, sentence_end\n",
    "\n",
    "def levenstein_distance(sentence, answer):\n",
    "    # NE dela še\n",
    "    return \"\""
   ]
  },
  {
   "cell_type": "markdown",
   "metadata": {},
   "source": [
    "**Find data in a direct sentence using Levenstein distance**"
   ]
  },
  {
   "cell_type": "code",
   "execution_count": 64,
   "metadata": {},
   "outputs": [
    {
     "name": "stdout",
     "output_type": "stream",
     "text": [
      "Normani (Norman: Nourmands; Francoščina: Normandi; Latinščina: Normanni) so bili ljudje, ki so v 10. in 11. stoletju dali svoje ime Normandiji, regiji v Franciji. Bili so potomci Norse („Norman“ prihaja iz „Norseman“) racije in pirati iz Danske, Islandije in Norveške, ki so, pod svojim voditeljem Rollo, prisegli zvestobo kralju Karlu III. Skozi generacije asimilacije in mešanja z avtohtonimi frankovskimi in rimsko-galskimi populacijami so se njihovi potomci postopoma združili s karolinškimi kulturami Zahodne Francije. Posebna kulturna in etnična identiteta Normanov se je pojavila v prvi polovici 10. stoletja in se je v naslednjih stoletjih še naprej razvijala. \n"
     ]
    },
    {
     "ename": "NameError",
     "evalue": "name 'neur' is not defined",
     "output_type": "error",
     "traceback": [
      "\u001b[1;31m---------------------------------------------------------------------------\u001b[0m",
      "\u001b[1;31mNameError\u001b[0m                                 Traceback (most recent call last)",
      "\u001b[1;32mc:\\Users\\jerne\\Documents\\Faks\\Magisterij\\2.letnik\\2.semester\\ONJ\\NLP\\code\\align_translated_data_levenstein.ipynb Cell 7'\u001b[0m in \u001b[0;36m<cell line: 5>\u001b[1;34m()\u001b[0m\n\u001b[0;32m     <a href='vscode-notebook-cell:/c%3A/Users/jerne/Documents/Faks/Magisterij/2.letnik/2.semester/ONJ/NLP/code/align_translated_data_levenstein.ipynb#ch0000004?line=20'>21</a>\u001b[0m     sentence_start, sentence_end \u001b[39m=\u001b[39m find_direct_sentence(article_text, ans_start)\n\u001b[0;32m     <a href='vscode-notebook-cell:/c%3A/Users/jerne/Documents/Faks/Magisterij/2.letnik/2.semester/ONJ/NLP/code/align_translated_data_levenstein.ipynb#ch0000004?line=21'>22</a>\u001b[0m     direct_sentence \u001b[39m=\u001b[39m article_text[sentence_start:sentence_end]\n\u001b[1;32m---> <a href='vscode-notebook-cell:/c%3A/Users/jerne/Documents/Faks/Magisterij/2.letnik/2.semester/ONJ/NLP/code/align_translated_data_levenstein.ipynb#ch0000004?line=23'>24</a>\u001b[0m     align \u001b[39m=\u001b[39m neur\u001b[39m.\u001b[39mAligner(ans_text, direct_sentence)\n\u001b[0;32m     <a href='vscode-notebook-cell:/c%3A/Users/jerne/Documents/Faks/Magisterij/2.letnik/2.semester/ONJ/NLP/code/align_translated_data_levenstein.ipynb#ch0000004?line=24'>25</a>\u001b[0m     \u001b[39mprint\u001b[39m(align\u001b[39m.\u001b[39mtable)\n\u001b[0;32m     <a href='vscode-notebook-cell:/c%3A/Users/jerne/Documents/Faks/Magisterij/2.letnik/2.semester/ONJ/NLP/code/align_translated_data_levenstein.ipynb#ch0000004?line=28'>29</a>\u001b[0m j \u001b[39m+\u001b[39m\u001b[39m=\u001b[39m \u001b[39m1\u001b[39m\n",
      "\u001b[1;31mNameError\u001b[0m: name 'neur' is not defined"
     ]
    }
   ],
   "source": [
    "i = 0\n",
    "j = 0\n",
    "df = pd.read_json(f\"..\\\\data\\\\{dataset_name}_unaligned_original_indices_SL.json\")\n",
    "\n",
    "for _, dset in df.iterrows():\n",
    "    for row in dset['data']['paragraphs']:\n",
    "        article_text = row['context']\n",
    "\n",
    "        print(article_text)\n",
    "        for qas in row['qas']:\n",
    "            for ans in qas['answers']:\n",
    "                ans_text = ans['text']\n",
    "                ans_start = ans['answer_start']\n",
    "                ans_end = ans['answer_end']\n",
    "                \n",
    "                if ans_text in article_text:\n",
    "                    ans['answer_start'] = article_text.find(ans_text)\n",
    "                    ans['answer_end'] = ans['answer_start'] + len(ans_text)\n",
    "                    i += 1\n",
    "                else:\n",
    "                    sentence_start, sentence_end = find_direct_sentence(article_text, ans_start)\n",
    "                    direct_sentence = article_text[sentence_start:sentence_end]\n",
    "                    \n",
    "                    # TODO\n",
    "\n",
    "                j += 1\n",
    "\n",
    "            if remove_bad_data:    \n",
    "                qas['answers'] = list(filter(lambda ans: ans['answer_start'] != -1, qas['answers']))\n",
    "        if remove_bad_data:    \n",
    "            row['qas'] = list(filter(lambda qas: len(qas['answers']) > 0, row['qas']))\n",
    "    if remove_bad_data:    \n",
    "        dset['data']['paragraphs'] = list(filter(lambda paragraph: len(paragraph['qas']) > 0, dset['data']['paragraphs']))\n",
    "\n",
    "actual_data = df['data'].to_numpy()\n",
    "with open(f\"..\\\\data\\\\aligned_data_SL\\\\{dataset_name}_aligned_directly_levenstein{'_all_answers' if not remove_bad_data else ''}.json\", \"w\") as new_file:\n",
    "    new_file.write(json.dumps({'data': list(actual_data)}, indent=2))\n",
    "\n",
    "print(f\"Accurately found {(i * 100 / j):.3f}% of answers in text\")"
   ]
  }
 ],
 "metadata": {
  "interpreter": {
   "hash": "723b19fd28deb96bc37baa0683c136986cb5cee47c210bd3f521ba1f2c79bab0"
  },
  "kernelspec": {
   "display_name": "Python 3.9.9 64-bit",
   "language": "python",
   "name": "python3"
  },
  "language_info": {
   "codemirror_mode": {
    "name": "ipython",
    "version": 3
   },
   "file_extension": ".py",
   "mimetype": "text/x-python",
   "name": "python",
   "nbconvert_exporter": "python",
   "pygments_lexer": "ipython3",
   "version": "3.9.9"
  },
  "orig_nbformat": 4
 },
 "nbformat": 4,
 "nbformat_minor": 2
}
