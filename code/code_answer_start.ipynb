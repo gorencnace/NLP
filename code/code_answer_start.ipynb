{
 "cells": [
  {
   "cell_type": "code",
   "execution_count": 2,
   "metadata": {
    "pycharm": {
     "is_executing": true
    }
   },
   "outputs": [],
   "source": [
    "import pandas as pd\n",
    "import numpy as np\n",
    "import torch\n",
    "from transformers import BertForQuestionAnswering, BertTokenizer\n",
    "import numpy as np"
   ]
  },
  {
   "cell_type": "code",
   "execution_count": 3,
   "metadata": {},
   "outputs": [],
   "source": [
    "def inverse_hamming_distance(s1, s2):\n",
    "    count = 0\n",
    "    for i in range(0, len(s1)):\n",
    "        if s1[i] == s2[i]:\n",
    "            count += 1\n",
    "    return count\n",
    "\n",
    "def levenshteinDistanceDP(token1, token2):\n",
    "    distances = np.zeros((len(token1) + 1, len(token2) + 1))\n",
    "\n",
    "    for t1 in range(len(token1) + 1):\n",
    "        distances[t1][0] = t1\n",
    "\n",
    "    for t2 in range(len(token2) + 1):\n",
    "        distances[0][t2] = t2\n",
    "        \n",
    "    a = 0\n",
    "    b = 0\n",
    "    c = 0\n",
    "    \n",
    "    for t1 in range(1, len(token1) + 1):\n",
    "        for t2 in range(1, len(token2) + 1):\n",
    "            if (token1[t1-1] == token2[t2-1]):\n",
    "                distances[t1][t2] = distances[t1 - 1][t2 - 1]\n",
    "            else:\n",
    "                a = distances[t1][t2 - 1]\n",
    "                b = distances[t1 - 1][t2]\n",
    "                c = distances[t1 - 1][t2 - 1]\n",
    "                \n",
    "                if (a <= b and a <= c):\n",
    "                    distances[t1][t2] = a + 1\n",
    "                elif (b <= a and b <= c):\n",
    "                    distances[t1][t2] = b + 1\n",
    "                else:\n",
    "                    distances[t1][t2] = c + 1\n",
    "\n",
    "    return distances[len(token1)][len(token2)]\n",
    "\n",
    "def find_answer(s1, s2):\n",
    "    best_fit = -1\n",
    "    best_index = -1\n",
    "    for i in range(len(s1) - len(s2) + 1):\n",
    "        score = inverse_hamming_distance(s1[i : i + len(s2)], s2)\n",
    "        if (score >= best_fit):\n",
    "            best_fit = score\n",
    "            best_index = i\n",
    "    if (best_fit < len(s2)/3):\n",
    "        return -1, -1\n",
    "    return best_fit, best_index  \n",
    "\n",
    "\n"
   ]
  },
  {
   "cell_type": "code",
   "execution_count": 6,
   "metadata": {},
   "outputs": [],
   "source": [
    "squad = pd.read_json('..\\\\data\\\\dev-slo-v2.0-test.json')\n",
    "del squad['version']\n",
    "squad.reset_index()\n",
    "\n",
    "# s1 = \"Jernnej se je rodil v 10. in 11. stoletju, zaradi česa je izpustil velik del otroštva\"\n",
    "# s2 = \"10. in 11. stoletje\"\n",
    "# fit, idx = find_answer(\"Jernnej se je rodil v 10. in 11. stoletju, zaradi česa je izpustil velik del otroštva\", \"10. in 11. stoletje\")\n",
    "# print(s1[idx : idx + len(s2)])\n",
    "\n",
    "for _, dset in squad.iterrows():\n",
    "    for row in dset['data']['paragraphs']:\n",
    "        context = row['context']\n",
    "        for qas in row['qas']:\n",
    "            if('answers' in qas.keys()):\n",
    "                for ans in qas['answers']:\n",
    "                    ans_to_find = ans['text']\n",
    "                    fit, idx = find_answer(context, ans_to_find)\n",
    "\n",
    "                    # Spremenimo index\n",
    "                    if idx != -1:\n",
    "                        ans['answer_start'] = idx\n",
    "                        ans[\"answer_end\"] = idx + len(ans_to_find)\n",
    "                    else:\n",
    "                        ans[\"answer_end\"] = ans[\"answer_start\"] + len(ans_to_find)\n",
    "\n",
    "            if('plausible_answers' in qas.keys()):\n",
    "                for ans in qas['plausible_answers']:\n",
    "                    ans_to_find = ans['text']\n",
    "                    fit, idx = find_answer(context, ans_to_find)\n",
    "\n",
    "                    # Spremenimo index\n",
    "                    if idx != -1:\n",
    "                        ans['answer_start'] = idx\n",
    "                        ans[\"answer_end\"] = idx + len(ans_to_find)\n",
    "                    else:\n",
    "                        ans[\"answer_end\"] = ans[\"answer_start\"] + len(ans_to_find)\n",
    "                        \n",
    "with open('df.json', 'w', encoding='utf-8') as file:\n",
    "    squad.to_json(file, force_ascii=False)"
   ]
  }
 ],
 "metadata": {
  "interpreter": {
   "hash": "26602ab9730260b5ce0f6b9e387bf735a6962b6d9b4f101674e777f3a1c7823f"
  },
  "kernelspec": {
   "display_name": "Python 3.8.10 64-bit",
   "language": "python",
   "name": "python3"
  },
  "language_info": {
   "codemirror_mode": {
    "name": "ipython",
    "version": 3
   },
   "file_extension": ".py",
   "mimetype": "text/x-python",
   "name": "python",
   "nbconvert_exporter": "python",
   "pygments_lexer": "ipython3",
   "version": "3.9.9"
  },
  "orig_nbformat": 4
 },
 "nbformat": 4,
 "nbformat_minor": 2
}
